{
  "nbformat": 4,
  "nbformat_minor": 0,
  "metadata": {
    "colab": {
      "provenance": [],
      "authorship_tag": "ABX9TyOrsTbU2jfGh5EuS6Rx/BqQ",
      "include_colab_link": true
    },
    "kernelspec": {
      "name": "python3",
      "display_name": "Python 3"
    },
    "language_info": {
      "name": "python"
    }
  },
  "cells": [
    {
      "cell_type": "markdown",
      "metadata": {
        "id": "view-in-github",
        "colab_type": "text"
      },
      "source": [
        "<a href=\"https://colab.research.google.com/github/lukascampos/carcdsi-google-colab/blob/master/series.ipynb\" target=\"_parent\"><img src=\"https://colab.research.google.com/assets/colab-badge.svg\" alt=\"Open In Colab\"/></a>"
      ]
    },
    {
      "cell_type": "code",
      "execution_count": 1,
      "metadata": {
        "id": "qR_cD7-9dD6P"
      },
      "outputs": [],
      "source": [
        "import pandas"
      ]
    },
    {
      "cell_type": "code",
      "source": [
        "# Criando Series de alunos e notas\n",
        "\n",
        "list_registration = ['M02', 'M05', 'M13', 'M14', 'M19']\n",
        "list_names = ['Bob', 'Dayse', 'Bill', 'Cris', 'Jimi']\n",
        "students_series = pandas.Series(list_names, index=list_registration)\n",
        "\n",
        "grades = pandas.Series([7.6, 5.0, 8.5, 9.5, 6.4])\n",
        "\n",
        "print(grades)\n",
        "print(\"-----------------\")\n",
        "print(students_series)"
      ],
      "metadata": {
        "colab": {
          "base_uri": "https://localhost:8080/"
        },
        "id": "-sDVMHfTfHbj",
        "outputId": "686db0b5-6c8e-44b9-cf85-2d66e2522399"
      },
      "execution_count": 2,
      "outputs": [
        {
          "output_type": "stream",
          "name": "stdout",
          "text": [
            "0    7.6\n",
            "1    5.0\n",
            "2    8.5\n",
            "3    9.5\n",
            "4    6.4\n",
            "dtype: float64\n",
            "-----------------\n",
            "M02      Bob\n",
            "M05    Dayse\n",
            "M13     Bill\n",
            "M14     Cris\n",
            "M19     Jimi\n",
            "dtype: object\n"
          ]
        }
      ]
    },
    {
      "cell_type": "code",
      "source": [
        "# Criando uma Series a partir de um dicionário (chave e valor)\n",
        "\n",
        "dic_students = {'M02': 'Bob', 'M05': 'Dayse', 'M13': 'Bill', 'M14': 'Cris', 'M19': 'Jimi'}\n",
        "\n",
        "dic_students_series = pandas.Series(dic_students)\n",
        "\n",
        "print(dic_students_series)"
      ],
      "metadata": {
        "colab": {
          "base_uri": "https://localhost:8080/"
        },
        "id": "qRTHPIUVgrKu",
        "outputId": "639817e5-6fa0-4ca9-af14-dbc388e0b871"
      },
      "execution_count": 4,
      "outputs": [
        {
          "output_type": "stream",
          "name": "stdout",
          "text": [
            "M02      Bob\n",
            "M05    Dayse\n",
            "M13     Bill\n",
            "M14     Cris\n",
            "M19     Jimi\n",
            "dtype: object\n"
          ]
        }
      ]
    },
    {
      "cell_type": "code",
      "source": [
        "students = pandas.Series({'M02': 'Bob', 'M05': 'Dayse', 'M13': 'Bill', 'M14': 'Cris', 'M19': 'Jimi'})\n",
        "\n",
        "# Atribuindo nomes para os vetores de dados e rótulos (indice)\n",
        "\n",
        "students.name = \"alunos\"\n",
        "students.index.name = \"matriculas\"\n",
        "\n",
        "print(students)\n",
        "\n",
        "size = students.size\n",
        "data = students.values\n",
        "labels = students.index\n",
        "students_type = type(students)\n",
        "students_dtype = students.dtype\n",
        "students_idx_dtype = students.index.dtype\n",
        "\n",
        "print('número de elementos: ', size)\n",
        "print('vetor de dados: ', data)\n",
        "print('vetor de rótulos: ', labels)\n",
        "print('tipo (type): ', students_type)\n",
        "print('dtype da Series: ', students_dtype)\n",
        "print('dtype do vetor de dados', students_idx_dtype)"
      ],
      "metadata": {
        "colab": {
          "base_uri": "https://localhost:8080/"
        },
        "id": "wC8UpQCchhoN",
        "outputId": "f8a666bb-703a-4ae0-9b43-49541840d342"
      },
      "execution_count": 6,
      "outputs": [
        {
          "output_type": "stream",
          "name": "stdout",
          "text": [
            "matriculas\n",
            "M02      Bob\n",
            "M05    Dayse\n",
            "M13     Bill\n",
            "M14     Cris\n",
            "M19     Jimi\n",
            "Name: alunos, dtype: object\n",
            "número de elementos:  5\n",
            "vetor de dados:  ['Bob' 'Dayse' 'Bill' 'Cris' 'Jimi']\n",
            "vetor de rótulos:  Index(['M02', 'M05', 'M13', 'M14', 'M19'], dtype='object', name='matriculas')\n",
            "tipo (type):  <class 'pandas.core.series.Series'>\n",
            "dtype da Series:  object\n",
            "dtype do vetor de dados object\n"
          ]
        }
      ]
    },
    {
      "cell_type": "code",
      "source": [
        "# indexação booleano\n",
        "\n",
        "# obtêm os indices dos alunos aprovados\n",
        "\n",
        "idx_approved_students = grades[grades >= 7].index\n",
        "\n",
        "print('Relação de alunos aprovados')\n",
        "print('-----------------------')\n",
        "\n",
        "# imprime os alunos aprovados (deprecated)\n",
        "\n",
        "# print(students[idx_approved_students])\n",
        "\n",
        "# imprime os alunos aprovados\n",
        "print(students.iloc[idx_approved_students])"
      ],
      "metadata": {
        "colab": {
          "base_uri": "https://localhost:8080/"
        },
        "id": "t3sHU_Fukotu",
        "outputId": "97f3e753-0b88-40aa-c2ab-04b82c5c1574"
      },
      "execution_count": 11,
      "outputs": [
        {
          "output_type": "stream",
          "name": "stdout",
          "text": [
            "Relação de alunos aprovados\n",
            "-----------------------\n",
            "matriculas\n",
            "M02     Bob\n",
            "M13    Bill\n",
            "M14    Cris\n",
            "Name: alunos, dtype: object\n"
          ]
        }
      ]
    },
    {
      "cell_type": "code",
      "source": [
        "# Buscas em Series\n",
        "\n",
        "has_M13 = 'M13' in students\n",
        "has_M99 = 'M99' in students\n",
        "\n",
        "print('Existe a matrícula \"M13\"? ', has_M13)\n",
        "print('Existe a matrícula \"M99\"? ', has_M99)\n",
        "\n",
        "# Testando se valor faz parte da Series\n",
        "\n",
        "has_bob = students.isin(['Bob'])\n",
        "print('Existe o valor \"Bob\"? ', has_bob)\n",
        "\n",
        "has_teste = students.isin(['teste'])\n",
        "print('Existe o valor \"teste\"? ', has_teste)"
      ],
      "metadata": {
        "colab": {
          "base_uri": "https://localhost:8080/"
        },
        "id": "qy7muldhmTMn",
        "outputId": "15ffec33-0216-4ad6-9aa9-2df73678d319"
      },
      "execution_count": 14,
      "outputs": [
        {
          "output_type": "stream",
          "name": "stdout",
          "text": [
            "Existe a matrícula \"M13\"?  True\n",
            "Existe a matrícula \"M99\"?  False\n",
            "Existe o valor \"Bob\"?  matriculas\n",
            "M02     True\n",
            "M05    False\n",
            "M13    False\n",
            "M14    False\n",
            "M19    False\n",
            "Name: alunos, dtype: bool\n",
            "Existe o valor \"teste\"?  matriculas\n",
            "M02    False\n",
            "M05    False\n",
            "M13    False\n",
            "M14    False\n",
            "M19    False\n",
            "Name: alunos, dtype: bool\n"
          ]
        }
      ]
    },
    {
      "cell_type": "code",
      "source": [
        "# Inserindo, alterando e removendo elementos de Series\n",
        "\n",
        "print('Series original')\n",
        "print(students)\n",
        "\n",
        "# insere o aluno de matricula M55, Rakesh\n",
        "students['M55'] = 'Rakesh'\n",
        "print(students)\n",
        "\n",
        "# Alterar os nomes Bill, Cris e Jimi para Billy, Cristy e Jimy\n",
        "students['M13'] = 'Billy'\n",
        "students[['M14', 'M19']] = ['Cristy', 'Jimy']\n",
        "print(students)\n",
        "\n",
        "# Remove o aluno de matricula M02 (Bob)\n",
        "students = students.drop('M02')\n",
        "print(students)"
      ],
      "metadata": {
        "colab": {
          "base_uri": "https://localhost:8080/"
        },
        "id": "0HCpgOVyp8CH",
        "outputId": "100cf26f-3a30-4a0b-aec8-9c64ff16627e"
      },
      "execution_count": 21,
      "outputs": [
        {
          "output_type": "stream",
          "name": "stdout",
          "text": [
            "Series original\n",
            "matriculas\n",
            "M02       Bob\n",
            "M05     Dayse\n",
            "M13     Billy\n",
            "M14    Cristy\n",
            "M19      Jimy\n",
            "M55    Rakesh\n",
            "Name: alunos, dtype: object\n",
            "matriculas\n",
            "M02       Bob\n",
            "M05     Dayse\n",
            "M13     Billy\n",
            "M14    Cristy\n",
            "M19      Jimy\n",
            "M55    Rakesh\n",
            "Name: alunos, dtype: object\n",
            "matriculas\n",
            "M02       Bob\n",
            "M05     Dayse\n",
            "M13     Billy\n",
            "M14    Cristy\n",
            "M19      Jimy\n",
            "M55    Rakesh\n",
            "Name: alunos, dtype: object\n",
            "matriculas\n",
            "M05     Dayse\n",
            "M13     Billy\n",
            "M14    Cristy\n",
            "M19      Jimy\n",
            "M55    Rakesh\n",
            "Name: alunos, dtype: object\n"
          ]
        }
      ]
    },
    {
      "cell_type": "code",
      "source": [
        "# Mudando o indice da Series\n",
        "\n",
        "students = pandas.Series({'M02': 'Bob', 'M05': 'Dayse', 'M13': 'Bill', 'M14': 'Cris', 'M19': 'Jimi'})\n",
        "print(students)\n",
        "\n",
        "students.index = ['M91', 'M92', 'M93', 'M94', 'M95']\n",
        "print(students)"
      ],
      "metadata": {
        "colab": {
          "base_uri": "https://localhost:8080/"
        },
        "id": "nOYKQkIdrl2c",
        "outputId": "b09a7d0c-0f84-4627-f1d8-1f1b0f6f13d1"
      },
      "execution_count": 22,
      "outputs": [
        {
          "output_type": "stream",
          "name": "stdout",
          "text": [
            "M02      Bob\n",
            "M05    Dayse\n",
            "M13     Bill\n",
            "M14     Cris\n",
            "M19     Jimi\n",
            "dtype: object\n",
            "M91      Bob\n",
            "M92    Dayse\n",
            "M93     Bill\n",
            "M94     Cris\n",
            "M95     Jimi\n",
            "dtype: object\n"
          ]
        }
      ]
    },
    {
      "cell_type": "code",
      "source": [
        "# Iteração\n",
        "\n",
        "for student in students: print(student)\n",
        "\n",
        "for position in students.index: print(position)"
      ],
      "metadata": {
        "colab": {
          "base_uri": "https://localhost:8080/"
        },
        "id": "lwQopIIksXA4",
        "outputId": "babfaa0b-369f-4753-85de-d505e5dba28f"
      },
      "execution_count": 24,
      "outputs": [
        {
          "output_type": "stream",
          "name": "stdout",
          "text": [
            "Bob\n",
            "Dayse\n",
            "Bill\n",
            "Cris\n",
            "Jimi\n",
            "M91\n",
            "M92\n",
            "M93\n",
            "M94\n",
            "M95\n"
          ]
        }
      ]
    },
    {
      "cell_type": "code",
      "source": [
        "# Operações aritméticas com computação vetorizada\n",
        "import numpy\n",
        "\n",
        "# Cria a Series s1 e s2\n",
        "s1 = pandas.Series([2, 4, 6])\n",
        "s2 = pandas.Series([1, 3, 5])\n",
        "\n",
        "print('s1: ')\n",
        "print(s1)\n",
        "print('s2: ')\n",
        "print(s2)\n",
        "\n",
        "print('s1 * 2: ')\n",
        "print(s1 * 2)\n",
        "\n",
        "print('s1 + s2')\n",
        "print(s1 + s2)\n",
        "\n",
        "print('raiz quadrada dos elementos de s1')\n",
        "print(numpy.sqrt(s1))"
      ],
      "metadata": {
        "colab": {
          "base_uri": "https://localhost:8080/"
        },
        "id": "iJeFWwIps-Hv",
        "outputId": "bed36981-db36-4a61-d8e2-891f72d550cd"
      },
      "execution_count": 28,
      "outputs": [
        {
          "output_type": "stream",
          "name": "stdout",
          "text": [
            "s1: \n",
            "0    2\n",
            "1    4\n",
            "2    6\n",
            "dtype: int64\n",
            "s2: \n",
            "0    1\n",
            "1    3\n",
            "2    5\n",
            "dtype: int64\n",
            "s1 * 2: \n",
            "0     4\n",
            "1     8\n",
            "2    12\n",
            "dtype: int64\n",
            "s1 + s2\n",
            "0     3\n",
            "1     7\n",
            "2    11\n",
            "dtype: int64\n",
            "raiz quadrada dos elementos\n",
            "0    1.414214\n",
            "1    2.000000\n",
            "2    2.449490\n",
            "dtype: float64\n"
          ]
        }
      ]
    },
    {
      "cell_type": "code",
      "source": [
        "# Valor NaN\n",
        "\n",
        "has_green = pandas.Series({'BR':1, 'FR':0, 'IT':1, 'UK':0})\n",
        "has_blue = pandas.Series({'AR':1, 'BR':1, 'FR':1, 'IT':0, 'UK':1})\n",
        "\n",
        "total = has_green + has_blue\n",
        "\n",
        "print(\"Soma\")\n",
        "print(total)\n",
        "print('---------------------')\n",
        "print('isnull(total)')\n",
        "print(pandas.isnull(total))"
      ],
      "metadata": {
        "colab": {
          "base_uri": "https://localhost:8080/"
        },
        "id": "BjyA6OsO2XtL",
        "outputId": "41302e1b-5e43-478b-f356-7e6db2da295b"
      },
      "execution_count": 29,
      "outputs": [
        {
          "output_type": "stream",
          "name": "stdout",
          "text": [
            "Soma\n",
            "AR    NaN\n",
            "BR    2.0\n",
            "FR    1.0\n",
            "IT    1.0\n",
            "UK    1.0\n",
            "dtype: float64\n",
            "---------------------\n",
            "isnull(total)\n",
            "AR     True\n",
            "BR    False\n",
            "FR    False\n",
            "IT    False\n",
            "UK    False\n",
            "dtype: bool\n"
          ]
        }
      ]
    },
    {
      "cell_type": "code",
      "source": [
        "# Indices datetime\n",
        "\n",
        "# 1 - Cria uma Series temporal\n",
        "\n",
        "days = ['10/02/2019', '11/02/2019', '12/02/2019', '12/02/2019', '14/02/2019', '15/02/2019']\n",
        "temp_max = [31, 35, 34, 28, 27, 27]\n",
        "serie_temporal = pandas.Series(temp_max, index=days)\n",
        "\n",
        "# 2 - Converte o tipo do indice para datetime e imprime a serie\n",
        "\n",
        "serie_temporal.index = pandas.to_datetime(serie_temporal.index, format='%d/%m/%Y')\n",
        "\n",
        "print(serie_temporal)"
      ],
      "metadata": {
        "colab": {
          "base_uri": "https://localhost:8080/"
        },
        "id": "kwM7cXw84X9t",
        "outputId": "fcb845fc-0d25-4c3b-ccdb-7aede26a7e64"
      },
      "execution_count": 33,
      "outputs": [
        {
          "output_type": "stream",
          "name": "stdout",
          "text": [
            "2019-02-10    31\n",
            "2019-02-11    35\n",
            "2019-02-12    34\n",
            "2019-02-12    28\n",
            "2019-02-14    27\n",
            "2019-02-15    27\n",
            "dtype: int64\n"
          ]
        }
      ]
    },
    {
      "cell_type": "code",
      "source": [
        "# Indexação hierarquica\n",
        "\n",
        "money = ['Peso', 'Real', 'Euro', 'Euro', 'Libra']\n",
        "countries = [['América', 'América', 'Europa', 'Europa', 'Europa'],\n",
        "             ['AR', 'BR', 'FR', 'IT', 'UK']]\n",
        "\n",
        "list_countries = pandas.Series(money, index=countries)\n",
        "\n",
        "print(list_countries) # imprime toda a lista\n",
        "print('----------------')\n",
        "print(list_countries['América']) # (AR: Peso, BR: Real)\n",
        "print('----------------')\n",
        "print(list_countries[:,'IT']) # (Europa: Euro)\n",
        "print('----------------')\n",
        "print(list_countries['Europa','UK']) # Libra"
      ],
      "metadata": {
        "colab": {
          "base_uri": "https://localhost:8080/"
        },
        "id": "XGKEe-qo7Bgr",
        "outputId": "111e6e37-b9ba-4482-a7af-0705733f490f"
      },
      "execution_count": 38,
      "outputs": [
        {
          "output_type": "stream",
          "name": "stdout",
          "text": [
            "América  AR     Peso\n",
            "         BR     Real\n",
            "Europa   FR     Euro\n",
            "         IT     Euro\n",
            "         UK    Libra\n",
            "dtype: object\n",
            "----------------\n",
            "AR    Peso\n",
            "BR    Real\n",
            "dtype: object\n",
            "----------------\n",
            "Europa    Euro\n",
            "dtype: object\n",
            "----------------\n",
            "Libra\n"
          ]
        }
      ]
    }
  ]
}